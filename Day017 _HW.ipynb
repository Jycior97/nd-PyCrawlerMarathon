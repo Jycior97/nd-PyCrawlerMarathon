{
 "cells": [],
 "metadata": {},
 "nbformat": 4,
 "nbformat_minor": 2
}
1.動態網頁跟靜態網頁的差別是什麼？原本靜態網頁的做法會產生什麼問題或是缺點？
靜態網頁在 Server 收到 Request 後會產生完整的 HTML 作為 Response。
動態網頁在 Server 收到 Request 後會產生相對單純的 HTML 作為 Response，當瀏覽器收到 Response 後再執行 JavaScript 拉取更多資料。

靜態網頁的問題在與每次請求都需要拉回完整的 HTML ，即便畫面中僅有部分更動。


2.還記得我們在 ETTODAY 靜態爬蟲實作練習中，有請大家完成一個題目「取出今天所有的發文」，但仔細看其實並沒有真的把當天所有的新聞都抓回來， 試著回答看看原因是什麼？及該如何檢查？
使用網站會發現，往下捲的時候可以取得更多的資料。像這種利用使用者互動，才執行程式取得資料的行為是由 JavaScript 執行的。因此透過 Python 執行爬蟲的過程中，並沒有執行到 JavaScript 這一段，因此無法取得資料。
更嚴謹的檢查可以把瀏覽器的 JavaScript 關閉，會發現無法網下載入更多資料，證明這個動作真的是由 JavaScript 在瀏覽器上運行的。
