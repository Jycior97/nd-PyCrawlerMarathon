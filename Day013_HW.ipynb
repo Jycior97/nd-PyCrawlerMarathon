{
 "cells": [
  {
   "cell_type": "code",
   "execution_count": null,
   "metadata": {},
   "outputs": [],
   "source": [
    "PTT網頁爬蟲"
   ]
  },
  {
   "cell_type": "code",
   "execution_count": 1,
   "metadata": {
    "scrolled": true
   },
   "outputs": [
    {
     "name": "stdout",
     "output_type": "stream",
     "text": [
      "(本文已被刪除) [jjeffrey1015]\n",
      "[情報] 假設6月復賽，剩餘賽程安排與新賽季時間\n",
      "作者: liuuuuuu (倘若那天)\n",
      "(本文已被刪除) [jjeffrey1015]\n",
      "[外絮] 對Gallinari而言 NBA停賽並不突然\n",
      "作者: love1500274 (CoWuCoWu)\n",
      "(本文已被刪除) [Tuesday]\n",
      "[花邊] 考慮海外發展？湯瑪斯:需要一支想要你的球隊\n",
      "作者: thnlkj0665 (灰色地帶)\n",
      "[公告] 板規v6.8\n",
      "[公告] 版主上任相關事項 \n",
      "作者: qazwsx879345 (Rajon Rondo)\n",
      "[情報] SEASON Schedule 賽程 March 19–20\n",
      "作者: Acetoxy (阿斯)\n",
      "[公告] 第一次被退文，可在三天後刪除退文\n",
      "作者: Vedan (味丹)\n",
      "[公告]大怒灌 \n",
      "作者: namie810303 (NBA)\n"
     ]
    }
   ],
   "source": [
    "import requests\n",
    "from bs4 import BeautifulSoup\n",
    "\n",
    "url = 'https://www.ptt.cc/bbs/NBA/index.html'\n",
    "r = requests.get(url)\n",
    "\n",
    "soup = BeautifulSoup(r.text, \"html5lib\")\n",
    "\n",
    "for d in soup.find_all(class_=\"title\"):\n",
    "    print(d.text.replace('\\t', '').replace('\\n', ''))\n",
    "    try:\n",
    "        r = BeautifulSoup(requests.get('https://www.ptt.cc'+d.find('a')['href']).text, \"html5lib\")\n",
    "        print('作者: ' + r.find(class_='article-meta-value').text)\n",
    "    except:\n",
    "        continue"
   ]
  },
  {
   "cell_type": "code",
   "execution_count": null,
   "metadata": {},
   "outputs": [],
   "source": [
    "① 印出最新文章的「作者」「標題」「時間」"
   ]
  },
  {
   "cell_type": "code",
   "execution_count": 2,
   "metadata": {},
   "outputs": [
    {
     "name": "stdout",
     "output_type": "stream",
     "text": [
      "作者: liuuuuuu (倘若那天)\n",
      "標題: [情報] 假設6月復賽，剩餘賽程安排與新賽季時間\n",
      "時間: Mon Mar 16 11:40:15 2020\n"
     ]
    }
   ],
   "source": [
    "import requests\n",
    "from bs4 import BeautifulSoup\n",
    "\n",
    "url = 'https://www.ptt.cc/bbs/NBA/index.html'\n",
    "r = requests.get(url)\n",
    "\n",
    "soup = BeautifulSoup(r.text, \"html5lib\")\n",
    "\n",
    "for i in range(0,len(soup.find_all(class_='title'))):\n",
    "    if soup.find_all(class_='title')[i].text.replace('\\n','').replace('\\t','')[0:8] == '(本文已被刪除)':\n",
    "        continue\n",
    "    else :\n",
    "        try :\n",
    "            d = soup.find_all(class_=\"title\")[i]\n",
    "            r = BeautifulSoup(requests.get('https://www.ptt.cc'+d.find('a')['href']).text, \"html5lib\")\n",
    "            print('作者: ' + r.find(class_='article-meta-value').text)\n",
    "            print('標題: ' + soup.find_all(class_='title')[i].text.replace('\\n','').replace('\\t',''))\n",
    "            print('時間: ' + r.find_all(class_='article-meta-value')[3].text)\n",
    "            break\n",
    "        except:\n",
    "            continue"
   ]
  },
  {
   "cell_type": "code",
   "execution_count": 3,
   "metadata": {},
   "outputs": [],
   "source": [
    "② 印出第一頁所有文章的「作者」「標題」「時間」"
   ]
  },
  {
   "cell_type": "code",
   "execution_count": 4,
   "metadata": {},
   "outputs": [
    {
     "name": "stdout",
     "output_type": "stream",
     "text": [
      "作者: liuuuuuu (倘若那天)\n",
      "標題: [情報] 假設6月復賽，剩餘賽程安排與新賽季時間\n",
      "時間: Mon Mar 16 11:40:15 2020\n",
      "\n",
      "作者: love1500274 (CoWuCoWu)\n",
      "標題: [外絮] 對Gallinari而言 NBA停賽並不突然\n",
      "時間: Mon Mar 16 12:56:34 2020\n",
      "\n",
      "作者: thnlkj0665 (灰色地帶)\n",
      "標題: [花邊] 考慮海外發展？湯瑪斯:需要一支想要你的球隊\n",
      "時間: Mon Mar 16 13:55:19 2020\n",
      "\n",
      "作者: qazwsx879345 (Rajon Rondo)\n",
      "標題: [公告] 版主上任相關事項 \n",
      "時間: Fri Oct 25 10:44:03 2019\n",
      "\n",
      "作者: Acetoxy (阿斯)\n",
      "標題: [情報] SEASON Schedule 賽程 March 19–20\n",
      "時間: Mon Mar  2 01:19:40 2020\n",
      "\n",
      "作者: Vedan (味丹)\n",
      "標題: [公告] 第一次被退文，可在三天後刪除退文\n",
      "時間: Mon Mar  9 11:44:26 2020\n",
      "\n",
      "作者: namie810303 (NBA)\n",
      "標題: [公告]大怒灌 \n",
      "時間: Thu Mar 12 09:57:19 2020\n",
      "\n"
     ]
    }
   ],
   "source": [
    "import requests\n",
    "from bs4 import BeautifulSoup\n",
    "\n",
    "url = 'https://www.ptt.cc/bbs/NBA/index.html'\n",
    "r = requests.get(url)\n",
    "\n",
    "soup = BeautifulSoup(r.text, \"html5lib\")\n",
    "\n",
    "for i in range(0,len(soup.find_all(class_='title'))):\n",
    "    if soup.find_all(class_='title')[i].text.replace('\\n','').replace('\\t','')[0:8] == '(本文已被刪除)':\n",
    "        continue\n",
    "    else :\n",
    "        try :\n",
    "            d = soup.find_all(class_=\"title\")[i]\n",
    "            r = BeautifulSoup(requests.get('https://www.ptt.cc'+d.find('a')['href']).text, \"html5lib\")\n",
    "            print('作者: ' + r.find(class_='article-meta-value').text)\n",
    "            print('標題: ' + soup.find_all(class_='title')[i].text.replace('\\n','').replace('\\t',''))\n",
    "            print('時間: ' + r.find_all(class_='article-meta-value')[3].text + '\\n')\n",
    "        except:\n",
    "            continue"
   ]
  },
  {
   "cell_type": "code",
   "execution_count": 5,
   "metadata": {},
   "outputs": [],
   "source": [
    "③ 試著爬爬看其他版的文章"
   ]
  },
  {
   "cell_type": "code",
   "execution_count": 6,
   "metadata": {},
   "outputs": [
    {
     "name": "stdout",
     "output_type": "stream",
     "text": [
      "作者: Fantasy7th (睡有出頭天)\n",
      "標題: Re: [討論] 全世界都應該學亞洲這三個國家吧\n",
      "時間: Mon Mar 16 14:10:19 2020\n",
      "\n",
      "作者: didder (dider)\n",
      "標題: Re: [討論] 全世界都應該學亞洲這三個國家吧\n",
      "時間: Mon Mar 16 14:20:27 2020\n",
      "\n",
      "作者: rpg1510 (八分之三)\n",
      "標題: [新聞] 川普篩檢陰性 美禁歐令擴及英愛\n",
      "時間: Mon Mar 16 14:23:54 2020\n",
      "\n",
      "作者: skyhawkptt (skyhawk)\n",
      "標題: [情報] 新冠肺炎疫苗研發大直擊！假扮冠狀病毒\n",
      "時間: Mon Mar 16 14:35:00 2020\n",
      "\n",
      "作者: arnold3 (就是愛黑絲美腿妹)\n",
      "標題: [問題] 有什麼具體措施可以有效降低基本傳染數?\n",
      "時間: Mon Mar 16 14:38:48 2020\n",
      "\n",
      "作者: girl10319 (凱莉)\n",
      "標題: [新聞] 南韓「教會疫情」再次威脅首都圈：城南社區教堂\n",
      "時間: Mon Mar 16 14:39:17 2020\n",
      "\n",
      "作者: chioio (蘇小喵)\n",
      "標題: [討論] 留個大學生還能出國旅遊是為什麼？\n",
      "時間: Mon Mar 16 14:47:54 2020\n",
      "\n",
      "作者: coffee777 (小賴)\n",
      "標題: [情報] 武漢肺炎台灣及全球病例即時戰情儀表版\n",
      "時間: Sun Jan 26 10:25:38 2020\n",
      "\n",
      "作者: WineVault (知客僧)\n",
      "標題: [公告] 本板板規（新增: 每日文章篇數上限）\n",
      "時間: Fri Feb  7 13:43:05 2020\n",
      "\n",
      "作者: flyingwhale (idk)\n",
      "標題: [公告] 板上重要參考資訊彙整\n",
      "時間: Mon Feb 17 13:45:56 2020\n",
      "\n"
     ]
    }
   ],
   "source": [
    "import requests\n",
    "from bs4 import BeautifulSoup\n",
    "\n",
    "url = 'https://www.ptt.cc/bbs/nCoV2019/index.html' #2020年春最夯議題:nCOVID武漢肺炎\n",
    "r = requests.get(url)\n",
    "\n",
    "soup = BeautifulSoup(r.text, \"html5lib\")\n",
    "\n",
    "for i in range(0,len(soup.find_all(class_='title'))):\n",
    "    if soup.find_all(class_='title')[i].text.replace('\\n','').replace('\\t','')[0:8] == '(本文已被刪除)':\n",
    "        continue\n",
    "    else :\n",
    "        try :\n",
    "            d = soup.find_all(class_=\"title\")[i]\n",
    "            r = BeautifulSoup(requests.get('https://www.ptt.cc'+d.find('a')['href']).text, \"html5lib\")\n",
    "            print('作者: ' + r.find(class_='article-meta-value').text)\n",
    "            print('標題: ' + soup.find_all(class_='title')[i].text.replace('\\n','').replace('\\t',''))\n",
    "            print('時間: ' + r.find_all(class_='article-meta-value')[3].text + '\\n')\n",
    "        except:\n",
    "            continue"
   ]
  }
 ],
 "metadata": {
  "kernelspec": {
   "display_name": "Python 3",
   "language": "python",
   "name": "python3"
  },
  "language_info": {
   "codemirror_mode": {
    "name": "ipython",
    "version": 3
   },
   "file_extension": ".py",
   "mimetype": "text/x-python",
   "name": "python",
   "nbconvert_exporter": "python",
   "pygments_lexer": "ipython3",
   "version": "3.7.4"
  }
 },
 "nbformat": 4,
 "nbformat_minor": 2
}
