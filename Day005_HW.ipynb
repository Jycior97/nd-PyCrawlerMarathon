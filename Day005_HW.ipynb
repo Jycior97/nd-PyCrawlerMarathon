{
 "cells": [
  {
   "cell_type": "code",
   "execution_count": 3,
   "metadata": {},
   "outputs": [],
   "source": [
    "import requests\n",
    "r = requests.get('https://www.dcard.tw/_api/forums/job/posts?popular=true')"
   ]
  },
  {
   "cell_type": "code",
   "execution_count": 8,
   "metadata": {},
   "outputs": [
    {
     "data": {
      "text/plain": [
       "'[{\"id\":225578807,\"title\":\"<請先點我> 工作板＆實習、打工職缺刊登說明\",\"excerpt\":\"工作板主要供分享職場工作心得、面試、正職、招考過程分享、各類型工作內容介紹、勞工工作權益與相關法案議題討論相關文章。文章發文後請加上話題，如：經驗分享、職業介紹、勞工權益、徵才等....，「實習職缺/刊登」請點：\",\"anonymousSchool\":false,\"anonymousDepartment\":true,\"pinned\":true,\"forumId\":\"6eeeafb2-9dac-4d81-ae4b-ffecf0ad4444\",\"replyId\":null,\"createdAt\":\"2017-01-01T06:27:39.650Z\",\"updatedAt\":\"2020-02-27T02:54:18.710Z\",\"commentCount\":38,\"likeCount\":682,\"withNickname\":true,\"tags\":[],\"topics\":[\"工作板\",\"Dcard公告\",\"實習職缺\",\"打工職缺\"],\"meta\":{},\"forumName\":\"工作\",\"forumAlias\":\"job\",\"gender\":\"D\",\"school\":\"客服小天使\",\"department\":\"dcard_support_2\",\"replyTitle\":null,\"mediaMeta\":[],\"reactions\":[{\"id\":\"286f599c-f86a-4932-82f0-f5a06f1eca03\",\"count\":679},{\"id\":\"e8e6bc5d-41b0-4129-b134-97507523d7ff\",\"count\":2},{\"id\":\"aa0d425f-d530-4478-9a77-fe3aedc79eea\",\"count\":1}],\"hidden\":false,\"customStyle\":null,\"isSuspiciousAccount\":false,\"layout\":\"classic\",\"pinnedType\":\"dcard\",\"pinnedPriority\":1582772058000,\"withImages\":false,\"withVideos\":false,\"media\":[],\"reportReasonText\":\"\",\"postAvatar\":\"\"},{\"id\":233222386,\"title\":\"超莫名面試經驗！女人何苦為難女人😥\",\"excerpt\":\"前陣子面試真的遇到讓我很傻眼的主管..，面試的時候有兩個人，一個年輕的男面試官和一個有點年紀的阿姨（主管），主管阿姨事後進來的，再此之前已經跟男面試官聊過一陣子了，對方也很有禮貌，整個過程都很舒適，結\",\"anonymousSchool\":true,\"anonymousDepartment\":true,\"pinned\":false,\"forumId\":\"6eeeafb2-9dac-4d81-ae4b-ffecf0ad4444\",\"replyId\":null,\"createdAt\":\"2020-03-08T18:21:12.013Z\",\"updatedAt\":\"2020-03-08T18:28:42.376Z\",\"commentCount\":35,\"likeCount\":679,\"withNickname\":false,\"tags\":[\"HIDE_THUMBNAIL\"],\"topics\":[\"面試\",\"工作\",\"求職\",\"面試心得\",\"慣老闆\"],\"meta\":{\"layout\":\"classic\"},\"forumName\":\"工作\",\"forumAlias\":\"job\",\"gender\":\"F\",\"replyTitle\":null,\"mediaMeta\":[],\"reactions\":[{\"id\":\"286f599c-f86a-4932-82f0-f5a06f1eca03\",\"count\":620},{\"id\":\"aa0d425f-d530-4478-9a77-fe3aedc79eea\",\"count\":46},{\"id\":\"4b018f48-e184-445f-adf1-fc8e04ba09b9\",\"count\":9},{\"id\":\"e8e6bc5d-41b0-4129-b134-97507523d7ff\",\"count\":4}],\"hidden\":false,\"customStyle\":null,\"isSuspiciousAccount\":false,\"layout\":\"classic\",\"withImages\":false,\"withVideos\":false,\"media\":[],\"reportReasonText\":\"\",\"postAvatar\":\"\"},{\"id\":233221618,\"title\":\"保險業深層破解\",\"excerpt\":\"（更）一個小故事，當時大學去某德國外商人壽，安x人壽，我考過證照後，對方業務叫我禮拜一過去那邊一趟，我以為是要去領證照，結果我到了之後他們在看電影？？然後一直跟我說他們都這樣很歡樂，我就問號，我他媽的\",\"anonymousSchool\":false,\"anonymousDepartment\":true,\"pinned\":false,\"forumId\":\"6eeeafb2-9dac-4d81-ae4b-ffecf0ad4444\",\"replyId\":null,\"createdAt\":\"2020-03-08T16:16:03.277Z\",\"updatedAt\":\"2020-03-10T00:06:28.535Z\",\"commentCount\":97,\"likeCount\":389,\"withNickname\":false,\"tags\":[],\"topics\":[\"保險業\",\"工作\",\"工作經驗\",\"求職\",\"實習\"],\"meta\":{\"layout\":\"classic\"},\"forumName\":\"工作\",\"forumAlias\":\"job\",\"gender\":\"M\",\"school\":\"國立臺中科技大學\",\"replyTitle\":null,\"mediaMeta\":[],\"reactions\":[{\"id\":\"286f599c-f86a-4932-82f0-f5a06f1eca03\",\"count\":369},{\"id\":\"e8e6bc5d-41b0-4129-b134-97507523d7ff\",\"count\":15},{\"id\":\"aa0d425f-d530-4478-9a77-fe3aedc79eea\",\"count\":5}],\"hidden\":false,\"customStyle\":null,\"isSuspiciousAccount\":false,\"layout\":\"classic\",\"withImages\":false,\"withVideos\":false,\"media\":[],\"reportReasonText\":\"\",\"postAvatar\":\"\"},{\"id\":233226489,\"title\":\"實習生文章 完全無法接受這裡面內容\",\"excerpt\":\"對於這篇文章完全無法接受，這種迎合資方態度的內容。假設環境是在良好的工作環境，多數是可以容忍接受的，只是如果就文章內容來做篩選人員的好壞，完全不ＯＫ。第一點：《你每天上班是否都面帶著微笑》適當的微笑O\",\"anonymousSchool\":true,\"anonymousDepartment\":true,\"pinned\":false,\"forumId\":\"6eeeafb2-9dac-4d81-ae4b-ffecf0ad4444\",\"replyId\":233217901,\"createdAt\":\"2020-03-09T10:35:24.755Z\",\"updatedAt\":\"2020-03-09T10:45:13.772Z\",\"commentCount\":13,\"likeCount\":71,\"withNickname\":false,\"tags\":[],\"topics\":[\"實習生\",\"工作\",\"求職\",\"面試\",\"徵才\"],\"meta\":{\"layout\":\"classic\"},\"forumName\":\"工作\",\"forumAlias\":\"job\",\"gender\":\"M\",\"replyTitle\":\"六個要點，讓你成為最受主管喜歡的實習生\",\"mediaMeta\":[],\"reactions\":[{\"id\":\"286f599c-f86a-4932-82f0-f5a06f1eca03\",\"count\":67},{\"id\":\"e8e6bc5d-41b0-4129-b134-97507523d7ff\",\"count\":3},{\"id\":\"4b018f48-e184-445f-adf1-fc8e04ba09b9\",\"count\":1}],\"hidden\":false,\"customStyle\":null,\"isSuspiciousAccount\":false,\"layout\":\"classic\",\"withImages\":false,\"withVideos\":false,\"media\":[],\"reportReasonText\":\"\",\"postAvatar\":\"\"},{\"id\":233221806,\"title\":\"工作心情\",\"excerpt\":\"不好意思打擾大家，我在一間公司呆了幾個月了，可是我越來越不快樂，最近甚至有傷害自己的行為出現，每當我晚上要睡前我就會開始很焦慮，會開始摳腳或是扯自己的頭髮，或是禮拜日的時候這些狀況更是明顯，工作內容的\",\"anonymousSchool\":true,\"anonymousDepartment\":true,\"pinned\":false,\"forumId\":\"6eeeafb2-9dac-4d81-ae4b-ffecf0ad4444\",\"replyId\":null,\"createdAt\":\"2020-03-08T16:37:26.860Z\",\"updatedAt\":\"2020-03-08T16:37:26.860Z\",\"commentCount\":20,\"likeCount\":31,\"withNickname\":false,\"tags\":[],\"topics\":[\"工作\"],\"meta\":{\"layout\":\"classic\"},\"forumName\":\"工作\",\"forumAlias\":\"job\",\"gender\":\"F\",\"replyTitle\":null,\"mediaMeta\":[],\"reactions\":[{\"id\":\"286f599c-f86a-4932-82f0-f5a06f1eca03\",\"count\":31}],\"hidden\":false,\"customStyle\":null,\"isSuspiciousAccount\":false,\"layout\":\"classic\",\"withImages\":false,\"withVideos\":false,\"media\":[],\"reportReasonText\":\"\",\"postAvatar\":\"\"},{\"id\":233226787,\"title\":\"到底是誰讓工作這麼累？有時可能是我們限制了自己\",\"excerpt\":\"一開始在書店看到這本書是被書名吸引，而且封面又很可愛（我就膚淺XD，最近在工作上也遇到一些難關，光是要應付主管就覺得夠累了….，一直被虛無飄渺的理由退企劃，搞不清楚到底是我太笨還是主管太莫名，每天回家\",\"anonymousSchool\":true,\"anonymousDepartment\":true,\"pinned\":false,\"forumId\":\"6eeeafb2-9dac-4d81-ae4b-ffecf0ad4444\",\"replyId\":null,\"createdAt\":\"2020-03-09T11:23:47.068Z\",\"updatedAt\":\"2020-03-09T11:32:13.728Z\",\"commentCount\":1,\"likeCount\":27,\"withNickname\":false,\"tags\":[],\"topics\":[\"工作\",\"工作經驗\",\"工作能力\"],\"meta\":{\"layout\":\"classic\"},\"forumName\":\"工作\",\"forumAlias\":\"job\",\"gender\":\"F\",\"replyTitle\":null,\"mediaMeta\":[{\"id\":\"d1191e68-e16a-4a63-8a8a-1feab17c7c76\",\"url\":\"https://i.imgur.com/AY5VVk8l.jpg\",\"normalizedUrl\":\"https://i.imgur.com/AY5VVk8l.jpg\",\"thumbnail\":\"https://i.imgur.com/AY5VVk8l.jpg\",\"type\":\"image/thumbnail\",\"tags\":[\"ANNOTATED_FAILED\"],\"createdAt\":\"2020-03-09T11:32:13.728Z\",\"updatedAt\":\"2020-03-09T11:32:13.728Z\"},{\"id\":\"d1191e68-e16a-4a63-8a8a-1feab17c7c76\",\"url\":\"http://i.imgur.com/AY5VVk8.jpg\",\"normalizedUrl\":\"https://imgur.com/AY5VVk8\",\"thumbnail\":\"https://i.imgur.com/AY5VVk8l.jpg\",\"type\":\"image/imgur\",\"tags\":[\"ANNOTATED_FAILED\"],\"createdAt\":\"2020-03-09T11:32:13.728Z\",\"updatedAt\":\"2020-03-09T11:32:13.728Z\"},{\"id\":\"c11be0dd-5a9f-4441-b783-43278eeae15b\",\"url\":\"http://i.imgur.com/s02B0LJ.jpg\",\"normalizedUrl\":\"https://imgur.com/s02B0LJ\",\"thumbnail\":\"https://i.imgur.com/s02B0LJl.jpg\",\"type\":\"image/imgur\",\"tags\":[\"ANNOTATED_FAILED\"],\"createdAt\":\"2020-03-09T11:32:13.728Z\",\"updatedAt\":\"2020-03-09T11:32:13.728Z\"},{\"id\":\"02e830e8-7401-4eeb-93be-1ebbe70b765d\",\"url\":\"http://i.imgur.com/7v8z1Gf.jpg\",\"normalizedUrl\":\"https://imgur.com/7v8z1Gf\",\"thumbnail\":\"https://i.imgur.com/7v8z1Gfl.jpg\",\"type\":\"image/imgur\",\"tags\":[\"ANNOTATED_FAILED\"],\"createdAt\":\"2020-03-09T11:32:13.728Z\",\"updatedAt\":\"2020-03-09T11:32:13.728Z\"}],\"reactions\":[{\"id\":\"286f599c-f86a-4932-82f0-f5a06f1eca03\",\"count\":27}],\"hidden\":false,\"customStyle\":null,\"isSuspiciousAccount\":false,\"layout\":\"classic\",\"withImages\":true,\"withVideos\":false,\"media\":[{\"url\":\"http://i.imgur.com/AY5VVk8.jpg\"},{\"url\":\"http://i.imgur.com/s02B0LJ.jpg\"},{\"url\":\"http://i.imgur.com/7v8z1Gf.jpg\"}],\"reportReasonText\":\"\",\"postAvatar\":\"\"},{\"id\":233223616,\"title\":\"離職，被逼問下一家公司名字!\",\"excerpt\":\"各位有沒有遇過離職的時候，一直被公司\\\\\"逼問\\\\\"下一家的去處？好像我一定要交待接下來的日子？請問版上人資，這是什麼專案，一定要記錄呢？有什麼目的？什麼目標？而後人資會去調查其他公司的薪資福利，拉低整體水平\",\"anonymousSchool\":false,\"anonymousDepartment\":true,\"pinned\":false,\"forumId\":\"6eeeafb2-9dac-4d81-ae4b-ffecf0ad4444\",\"replyId\":null,\"createdAt\":\"2020-03-09T02:55:58.810Z\",\"updatedAt\":\"2020-03-09T02:55:58.810Z\",\"commentCount\":13,\"likeCount\":22,\"withNickname\":true,\"tags\":[],\"topics\":[\"公司\",\"工作\",\"離職\",\"勞工權益\"],\"meta\":{\"layout\":\"classic\"},\"forumName\":\"工作\",\"forumAlias\":\"job\",\"gender\":\"F\",\"school\":\"匿名\",\"department\":\"sunnny111\",\"replyTitle\":null,\"mediaMeta\":[],\"reactions\":[{\"id\":\"286f599c-f86a-4932-82f0-f5a06f1eca03\",\"count\":22}],\"hidden\":false,\"customStyle\":null,\"isSuspiciousAccount\":false,\"layout\":\"classic\",\"withImages\":false,\"withVideos\":false,\"media\":[],\"reportReasonText\":\"\",\"postAvatar\":\"\"},{\"id\":233222959,\"title\":\"我只有35K\",\"excerpt\":\"開門見山的說，南部，半導體產業，上市公司，IT工程屍，大學畢業，我35K。工程屍薪水少的一逼，工作還多。\",\"anonymousSchool\":false,\"anonymousDepartment\":true,\"pinned\":false,\"forumId\":\"6eeeafb2-9dac-4d81-ae4b-ffecf0ad4444\",\"replyId\":233211317,\"createdAt\":\"2020-03-08T23:57:04.575Z\",\"updatedAt\":\"2020-03-09T00:00:16.443Z\",\"commentCount\":20,\"likeCount\":18,\"withNickname\":false,\"tags\":[],\"topics\":[\"34\",\"工作\",\"工作經驗\",\"薪資\"],\"meta\":{\"layout\":\"classic\"},\"forumName\":\"工作\",\"forumAlias\":\"job\",\"gender\":\"M\",\"school\":\"國立中山大學\",\"replyTitle\":\"我很努力為什麼才只有34K\",\"mediaMeta\":[],\"reactions\":[{\"id\":\"286f599c-f86a-4932-82f0-f5a06f1eca03\",\"count\":18}],\"hidden\":false,\"customStyle\":null,\"isSuspiciousAccount\":false,\"layout\":\"classic\",\"withImages\":false,\"withVideos\":false,\"media\":[],\"reportReasonText\":\"\",\"postAvatar\":\"\"},{\"id\":233225768,\"title\":\"大四下（準畢業生）的選擇😫\",\"excerpt\":\"大學終於來到最後一年了啊，上學期已經把必修學分都修完了，只剩下一門通識課程 想說可以直接找職場工作了，畢業後應該也會在台中找吧，滑各家數字網（主要看鐵枝跟e04，在1111中部專區看新鮮人勢力的時候，\",\"anonymousSchool\":true,\"anonymousDepartment\":true,\"pinned\":false,\"forumId\":\"6eeeafb2-9dac-4d81-ae4b-ffecf0ad4444\",\"replyId\":null,\"createdAt\":\"2020-03-09T08:39:12.845Z\",\"updatedAt\":\"2020-03-09T08:39:12.845Z\",\"commentCount\":6,\"likeCount\":13,\"withNickname\":false,\"tags\":[],\"topics\":[],\"meta\":{\"layout\":\"classic\"},\"forumName\":\"工作\",\"forumAlias\":\"job\",\"gender\":\"M\",\"replyTitle\":null,\"mediaMeta\":[],\"reactions\":[{\"id\":\"286f599c-f86a-4932-82f0-f5a06f1eca03\",\"count\":13}],\"hidden\":false,\"customStyle\":null,\"isSuspiciousAccount\":false,\"layout\":\"classic\",\"withImages\":false,\"withVideos\":false,\"media\":[],\"reportReasonText\":\"\",\"postAvatar\":\"\"},{\"id\":233224333,\"title\":\"新人上班\",\"excerpt\":\"今天第一天去新工作報到，好陌生好無助，同事全部都比我大 也很多阿姨叔叔級的，覺得有點難親近的感覺，開始了陪笑臉一整天的生活，完全提不起勁...，該怎麼想才可以好好堅持下去\",\"anonymousSchool\":true,\"anonymousDepartment\":true,\"pinned\":false,\"forumId\":\"6eeeafb2-9dac-4d81-ae4b-ffecf0ad4444\",\"replyId\":null,\"createdAt\":\"2020-03-09T04:57:56.999Z\",\"updatedAt\":\"2020-03-09T04:57:56.999Z\",\"commentCount\":15,\"likeCount\":12,\"withNickname\":false,\"tags\":[\"HIDE_THUMBNAIL\"],\"topics\":[\"上班\",\"工作\",\"工作經驗\",\"新人\"],\"meta\":{\"layout\":\"classic\"},\"forumName\":\"工作\",\"forumAlias\":\"job\",\"gender\":\"F\",\"replyTitle\":null,\"mediaMeta\":[],\"reactions\":[{\"id\":\"286f599c-f86a-4932-82f0-f5a06f1eca03\",\"count\":12}],\"hidden\":false,\"customStyle\":null,\"isSuspiciousAccount\":false,\"layout\":\"classic\",\"withImages\":false,\"withVideos\":false,\"media\":[],\"reportReasonText\":\"\",\"postAvatar\":\"\"},{\"id\":233221820,\"title\":\"室內設計\",\"excerpt\":\"28k，一年，工時平均每天10小以上，無加班費，無獎金，年終一個月，假日有時要因為業主開會 丈量 跑工地，工作內容：丈量 平面配置 立面 平面系統 工地監工，會議記錄 估價單 簡報製作 廠商聯絡，3d\",\"anonymousSchool\":true,\"anonymousDepartment\":true,\"pinned\":false,\"forumId\":\"6eeeafb2-9dac-4d81-ae4b-ffecf0ad4444\",\"replyId\":null,\"createdAt\":\"2020-03-08T16:38:55.001Z\",\"updatedAt\":\"2020-03-08T16:54:07.040Z\",\"commentCount\":17,\"likeCount\":11,\"withNickname\":false,\"tags\":[\"HIDE_THUMBNAIL\"],\"topics\":[\"室內設計\",\"工作經驗\"],\"meta\":{\"layout\":\"classic\"},\"forumName\":\"工作\",\"forumAlias\":\"job\",\"gender\":\"M\",\"replyTitle\":null,\"mediaMeta\":[],\"reactions\":[{\"id\":\"286f599c-f86a-4932-82f0-f5a06f1eca03\",\"count\":11}],\"hidden\":false,\"customStyle\":null,\"isSuspiciousAccount\":false,\"layout\":\"classic\",\"withImages\":false,\"withVideos\":false,\"media\":[],\"reportReasonText\":\"\",\"postAvatar\":\"\"},{\"id\":233230223,\"title\":\"我得了工作恐懼症～\",\"excerpt\":\"因為之前在職場被傷害過～所以面對找工作就會有恐懼症～煩躁到睡不著，也很努力的安慰自己要克服，但腦子還是無法停止思考覺得自己好沒用....，已經待業七個月了\",\"anonymousSchool\":true,\"anonymousDepartment\":true,\"pinned\":false,\"forumId\":\"6eeeafb2-9dac-4d81-ae4b-ffecf0ad4444\",\"replyId\":null,\"createdAt\":\"2020-03-09T19:11:21.588Z\",\"updatedAt\":\"2020-03-09T19:11:21.588Z\",\"commentCount\":7,\"likeCount\":10,\"withNickname\":false,\"tags\":[\"HIDE_THUMBNAIL\"],\"topics\":[\"工作\"],\"meta\":{\"layout\":\"classic\"},\"forumName\":\"工作\",\"forumAlias\":\"job\",\"gender\":\"F\",\"replyTitle\":null,\"mediaMeta\":[],\"reactions\":[{\"id\":\"286f599c-f86a-4932-82f0-f5a06f1eca03\",\"count\":10}],\"hidden\":false,\"customStyle\":null,\"isSuspiciousAccount\":false,\"layout\":\"classic\",\"withImages\":false,\"withVideos\":false,\"media\":[],\"reportReasonText\":\"\",\"postAvatar\":\"\"},{\"id\":233228668,\"title\":\"你也可以做出好履歷啦，線上履歷平台評比\",\"excerpt\":\"Hello各位，之前有和大家分享過寫履歷時的檢驗標準，如果沒看過的可以點以下的連結去看：知道哪些事情不該做之後，如果能找到好用的工具，那會節省超級多的時間。因此這篇的目的就是分享我自己用過這些線上平台\",\"anonymousSchool\":false,\"anonymousDepartment\":true,\"pinned\":false,\"forumId\":\"6eeeafb2-9dac-4d81-ae4b-ffecf0ad4444\",\"replyId\":null,\"createdAt\":\"2020-03-09T15:17:34.750Z\",\"updatedAt\":\"2020-03-09T17:28:11.492Z\",\"commentCount\":0,\"likeCount\":10,\"withNickname\":false,\"tags\":[],\"topics\":[\"履歷\",\"工作\",\"求職\",\"工作經驗\"],\"meta\":{\"layout\":\"classic\"},\"forumName\":\"工作\",\"forumAlias\":\"job\",\"gender\":\"M\",\"school\":\"倫敦大學金匠學院\",\"replyTitle\":null,\"mediaMeta\":[],\"reactions\":[{\"id\":\"286f599c-f86a-4932-82f0-f5a06f1eca03\",\"count\":10}],\"hidden\":false,\"customStyle\":null,\"isSuspiciousAccount\":false,\"layout\":\"classic\",\"withImages\":false,\"withVideos\":false,\"media\":[],\"reportReasonText\":\"\",\"postAvatar\":\"\"},{\"id\":233223038,\"title\":\"該不該換工作..\",\"excerpt\":\"我在一間中小企業擔任採購助理，說好聽一些是採購助理，但其實就是業務助理，除了擔任採購助理外，還要做管理部的工作內容，這讓我覺得很雜 不是很喜歡，有同事因為這樣跟老闆談離職，老闆的意思是由於我們公司是中\",\"anonymousSchool\":true,\"anonymousDepartment\":true,\"pinned\":false,\"forumId\":\"6eeeafb2-9dac-4d81-ae4b-ffecf0ad4444\",\"replyId\":null,\"createdAt\":\"2020-03-09T00:39:49.230Z\",\"updatedAt\":\"2020-03-09T00:39:49.230Z\",\"commentCount\":7,\"likeCount\":10,\"withNickname\":false,\"tags\":[\"HIDE_THUMBNAIL\"],\"topics\":[\"工作\"],\"meta\":{\"layout\":\"classic\"},\"forumName\":\"工作\",\"forumAlias\":\"job\",\"gender\":\"F\",\"replyTitle\":null,\"mediaMeta\":[],\"reactions\":[{\"id\":\"286f599c-f86a-4932-82f0-f5a06f1eca03\",\"count\":10}],\"hidden\":false,\"customStyle\":null,\"isSuspiciousAccount\":false,\"layout\":\"classic\",\"withImages\":false,\"withVideos\":false,\"media\":[],\"reportReasonText\":\"\",\"postAvatar\":\"\"},{\"id\":233227339,\"title\":\"民營銀行多益至少要多少分再放\",\"excerpt\":\"如題 我是應屆畢業生 目前已經來不及再考多益 但只考了580分 我知道很爛 所以我很猶豫要不要放 但如果不放 在履歷上面 外語空白感覺也很奇怪 而且至少證明還有580 的水準，但放了又怕扣分 想問要是\",\"anonymousSchool\":true,\"anonymousDepartment\":true,\"pinned\":false,\"forumId\":\"6eeeafb2-9dac-4d81-ae4b-ffecf0ad4444\",\"replyId\":null,\"createdAt\":\"2020-03-09T12:44:02.816Z\",\"updatedAt\":\"2020-03-09T14:22:40.163Z\",\"commentCount\":6,\"likeCount\":9,\"withNickname\":false,\"tags\":[\"HIDE_THUMBNAIL\"],\"topics\":[\"多益\",\"民營銀行\",\"工作\",\"求職\",\"面試\"],\"meta\":{\"layout\":\"classic\"},\"forumName\":\"工作\",\"forumAlias\":\"job\",\"gender\":\"F\",\"replyTitle\":null,\"mediaMeta\":[],\"reactions\":[{\"id\":\"286f599c-f86a-4932-82f0-f5a06f1eca03\",\"count\":9}],\"hidden\":false,\"customStyle\":null,\"isSuspiciousAccount\":false,\"layout\":\"classic\",\"withImages\":false,\"withVideos\":false,\"media\":[],\"reportReasonText\":\"\",\"postAvatar\":\"\"},{\"id\":233226585,\"title\":\"健保轉出單問題\",\"excerpt\":\"我的健保是保在父親郵局底下，而我最近到公營事業上班（所在地台北）說要健保轉出單，但我的戶籍地在台南，這樣還要跑去台南區公所辦嗎？啊辦的過程需要郵局的資料嗎 還是我自己一個人帶雙證件和印章就能辦成功了？\",\"anonymousSchool\":true,\"anonymousDepartment\":true,\"pinned\":false,\"forumId\":\"6eeeafb2-9dac-4d81-ae4b-ffecf0ad4444\",\"replyId\":null,\"createdAt\":\"2020-03-09T10:51:18.394Z\",\"updatedAt\":\"2020-03-09T10:51:18.394Z\",\"commentCount\":2,\"likeCount\":8,\"withNickname\":false,\"tags\":[\"HIDE_THUMBNAIL\"],\"topics\":[\"健保\"],\"meta\":{\"layout\":\"classic\"},\"forumName\":\"工作\",\"forumAlias\":\"job\",\"gender\":\"M\",\"replyTitle\":null,\"mediaMeta\":[],\"reactions\":[{\"id\":\"286f599c-f86a-4932-82f0-f5a06f1eca03\",\"count\":7},{\"id\":\"e8e6bc5d-41b0-4129-b134-97507523d7ff\",\"count\":1}],\"hidden\":false,\"customStyle\":null,\"isSuspiciousAccount\":false,\"layout\":\"classic\",\"withImages\":false,\"withVideos\":false,\"media\":[],\"reportReasonText\":\"\",\"postAvatar\":\"\"},{\"id\":233223583,\"title\":\"國泰儲備幹部-3/21直播分享\",\"excerpt\":\"最近看到國泰儲備幹部在徵才！，3/21會有關韶文的直播哀～他真的很好笑XDD，不知道大家有沒有留言問問題⬇️，提問箱，分享給大家囉～希望可以順利選上MA，#MA的路上，#一起努力吧\",\"anonymousSchool\":true,\"anonymousDepartment\":true,\"pinned\":false,\"forumId\":\"6eeeafb2-9dac-4d81-ae4b-ffecf0ad4444\",\"replyId\":null,\"createdAt\":\"2020-03-09T02:51:22.841Z\",\"updatedAt\":\"2020-03-09T02:51:22.841Z\",\"commentCount\":0,\"likeCount\":7,\"withNickname\":false,\"tags\":[\"HIDE_THUMBNAIL\"],\"topics\":[\"工作\",\"求職\",\"徵才\",\"儲備\",\"工作經驗\"],\"meta\":{\"layout\":\"classic\"},\"forumName\":\"工作\",\"forumAlias\":\"job\",\"gender\":\"M\",\"replyTitle\":null,\"mediaMeta\":[],\"reactions\":[{\"id\":\"286f599c-f86a-4932-82f0-f5a06f1eca03\",\"count\":7}],\"hidden\":false,\"customStyle\":null,\"isSuspiciousAccount\":false,\"layout\":\"classic\",\"withImages\":false,\"withVideos\":false,\"media\":[],\"reportReasonText\":\"\",\"postAvatar\":\"\"},{\"id\":233222099,\"title\":\"要做正職還是打工?\",\"excerpt\":\"以前我的工作是正職，25K，月休10天，表面上12小時，實際上每天13-15小時，後來我離職，換工作，26K，月休4天，每天10小時，下一份工作，24K，週休二日，每天8小時，在去年離職，目前做2個工\",\"anonymousSchool\":true,\"anonymousDepartment\":true,\"pinned\":false,\"forumId\":\"6eeeafb2-9dac-4d81-ae4b-ffecf0ad4444\",\"replyId\":null,\"createdAt\":\"2020-03-08T17:20:45.445Z\",\"updatedAt\":\"2020-03-08T17:20:45.445Z\",\"commentCount\":6,\"likeCount\":7,\"withNickname\":false,\"tags\":[],\"topics\":[\"工作\",\"工作經驗\"],\"meta\":{\"layout\":\"classic\"},\"forumName\":\"工作\",\"forumAlias\":\"job\",\"gender\":\"F\",\"replyTitle\":null,\"mediaMeta\":[],\"reactions\":[{\"id\":\"286f599c-f86a-4932-82f0-f5a06f1eca03\",\"count\":7}],\"hidden\":false,\"customStyle\":null,\"isSuspiciousAccount\":false,\"layout\":\"classic\",\"withImages\":false,\"withVideos\":false,\"media\":[],\"reportReasonText\":\"\",\"postAvatar\":\"\"},{\"id\":233227100,\"title\":\"剛進入公司上班，有什麼該注意的嗎？\",\"excerpt\":\"大家進入公司前幾個月都怎麼去適應呢？最近到公司我算是在辦公室助理，主要負責是公司產品的，零件貨品的進出庫存控管與帳單核對，零用金收發和一些行政業務有關..等，除了和同事打好關係還有什麼該注意的嗎？\",\"anonymousSchool\":true,\"anonymousDepartment\":true,\"pinned\":false,\"forumId\":\"6eeeafb2-9dac-4d81-ae4b-ffecf0ad4444\",\"replyId\":null,\"createdAt\":\"2020-03-09T12:13:18.953Z\",\"updatedAt\":\"2020-03-09T12:13:18.953Z\",\"commentCount\":3,\"likeCount\":6,\"withNickname\":false,\"tags\":[],\"topics\":[\"上班\",\"公司\",\"工作\",\"求職\",\"工作經驗\"],\"meta\":{\"layout\":\"classic\"},\"forumName\":\"工作\",\"forumAlias\":\"job\",\"gender\":\"F\",\"replyTitle\":null,\"mediaMeta\":[],\"reactions\":[{\"id\":\"286f599c-f86a-4932-82f0-f5a06f1eca03\",\"count\":6}],\"hidden\":false,\"customStyle\":null,\"isSuspiciousAccount\":false,\"layout\":\"classic\",\"withImages\":false,\"withVideos\":false,\"media\":[],\"reportReasonText\":\"\",\"postAvatar\":\"\"},{\"id\":233227047,\"title\":\"為什麼大家愛抱怨\",\"excerpt\":\"如標題所說，為什麼看到版上很多人在抱怨自己的薪水，什麼選文組工作怎麼樣選理組工作怎麼樣，當初自己選科系時怎麼不想想未來的出路，與其在那邊抱怨不如好好去充實自己好嗎\",\"anonymousSchool\":true,\"anonymousDepartment\":true,\"pinned\":false,\"forumId\":\"6eeeafb2-9dac-4d81-ae4b-ffecf0ad4444\",\"replyId\":null,\"createdAt\":\"2020-03-09T12:05:56.797Z\",\"updatedAt\":\"2020-03-09T12:09:34.229Z\",\"commentCount\":3,\"likeCount\":6,\"withNickname\":false,\"tags\":[],\"topics\":[\"工作\",\"工作經驗\",\"實習\",\"打工\",\"薪資\"],\"meta\":{\"layout\":\"classic\"},\"forumName\":\"工作\",\"forumAlias\":\"job\",\"gender\":\"M\",\"replyTitle\":null,\"mediaMeta\":[{\"id\":\"6230b4ae-f21a-4312-89ac-185296d02768\",\"url\":\"https://megapx-assets.dcard.tw/images/00a4b891-179b-4c86-af6b-681551630a7e/320.jpeg\",\"normalizedUrl\":\"https://megapx-assets.dcard.tw/images/00a4b891-179b-4c86-af6b-681551630a7e/320.jpeg\",\"thumbnail\":\"https://megapx-assets.dcard.tw/images/00a4b891-179b-4c86-af6b-681551630a7e/320.jpeg\",\"type\":\"image/thumbnail\",\"tags\":[\"ANNOTATED\"],\"createdAt\":\"2020-03-09T12:05:56.797Z\",\"updatedAt\":\"2020-03-09T12:09:34.229Z\",\"width\":320,\"height\":302},{\"id\":\"6230b4ae-f21a-4312-89ac-185296d02768\",\"url\":\"https://megapx-assets.dcard.tw/images/00a4b891-179b-4c86-af6b-681551630a7e/full.jpeg\",\"normalizedUrl\":\"https://megapx.dcard.tw/v1/images/00a4b891-179b-4c86-af6b-681551630a7e\",\"thumbnail\":\"https://megapx-assets.dcard.tw/images/00a4b891-179b-4c86-af6b-681551630a7e/320.jpeg\",\"type\":\"image/megapx\",\"tags\":[\"ANNOTATED\"],\"createdAt\":\"2020-03-09T12:05:56.797Z\",\"updatedAt\":\"2020-03-09T12:09:34.229Z\",\"width\":389,\"height\":367}],\"reactions\":[{\"id\":\"286f599c-f86a-4932-82f0-f5a06f1eca03\",\"count\":6}],\"hidden\":false,\"customStyle\":null,\"isSuspiciousAccount\":false,\"layout\":\"classic\",\"withImages\":true,\"withVideos\":false,\"media\":[{\"url\":\"https://megapx-assets.dcard.tw/images/00a4b891-179b-4c86-af6b-681551630a7e/full.jpeg\"}],\"reportReasonText\":\"\",\"postAvatar\":\"\"},{\"id\":233226598,\"title\":\"這樣可以提離職嗎\",\"excerpt\":\"這份工作目前做了1個多月，但真的很不適應也很不喜歡，但是當初面試時主管也已經有說希望我可以做滿一年，（因為算是一個方案工作，簽合約上也寫離職要提前一個月告知，但最近看到一個喜歡的職缺 想投履歷，如果順\",\"anonymousSchool\":true,\"anonymousDepartment\":true,\"pinned\":false,\"forumId\":\"6eeeafb2-9dac-4d81-ae4b-ffecf0ad4444\",\"replyId\":null,\"createdAt\":\"2020-03-09T10:53:10.459Z\",\"updatedAt\":\"2020-03-09T10:53:49.707Z\",\"commentCount\":8,\"likeCount\":6,\"withNickname\":false,\"tags\":[\"HIDE_THUMBNAIL\"],\"topics\":[\"工作\",\"離職\",\"勞工權益\"],\"meta\":{\"layout\":\"classic\"},\"forumName\":\"工作\",\"forumAlias\":\"job\",\"gender\":\"F\",\"replyTitle\":null,\"mediaMeta\":[],\"reactions\":[{\"id\":\"286f599c-f86a-4932-82f0-f5a06f1eca03\",\"count\":5},{\"id\":\"aa0d425f-d530-4478-9a77-fe3aedc79eea\",\"count\":1}],\"hidden\":false,\"customStyle\":null,\"isSuspiciousAccount\":false,\"layout\":\"classic\",\"withImages\":false,\"withVideos\":false,\"media\":[],\"reportReasonText\":\"\",\"postAvatar\":\"\"},{\"id\":233224184,\"title\":\"很突然被離職\",\"excerpt\":\"最近待在某個保養品牌的邀約櫃，一開始進去時候不知道要邀約，但進來才知道 想說累積經驗先試試看，結果最後業績不到被走人，而且是當天直接通知明天不用來了，其實之前有真正想去的品牌工作，因為是我喜歡的，結果\",\"anonymousSchool\":true,\"anonymousDepartment\":true,\"pinned\":false,\"forumId\":\"6eeeafb2-9dac-4d81-ae4b-ffecf0ad4444\",\"replyId\":null,\"createdAt\":\"2020-03-09T04:33:24.749Z\",\"updatedAt\":\"2020-03-09T04:33:24.749Z\",\"commentCount\":6,\"likeCount\":6,\"withNickname\":false,\"tags\":[\"HIDE_THUMBNAIL\"],\"topics\":[\"離職\",\"勞工權益\",\"求職\"],\"meta\":{\"layout\":\"classic\"},\"forumName\":\"工作\",\"forumAlias\":\"job\",\"gender\":\"F\",\"replyTitle\":null,\"mediaMeta\":[],\"reactions\":[{\"id\":\"286f599c-f86a-4932-82f0-f5a06f1eca03\",\"count\":6}],\"hidden\":false,\"customStyle\":null,\"isSuspiciousAccount\":false,\"layout\":\"classic\",\"withImages\":false,\"withVideos\":false,\"media\":[],\"reportReasonText\":\"\",\"postAvatar\":\"\"},{\"id\":233223451,\"title\":\"究竟是我爛草莓？還是打工太不合理？\",\"excerpt\":\"開學的時候，想說從大一開始存學貸，於是找了一份飲料店的打工。想說時間能配合上，發個試喝而已沒什麼，殊不知，事情沒有我想像的這麼簡單，第一天他要我先從打烊班 （ 21.~24. ） 學起，我第一天收到2\",\"anonymousSchool\":true,\"anonymousDepartment\":true,\"pinned\":false,\"forumId\":\"6eeeafb2-9dac-4d81-ae4b-ffecf0ad4444\",\"replyId\":null,\"createdAt\":\"2020-03-09T02:25:44.206Z\",\"updatedAt\":\"2020-03-09T02:40:44.621Z\",\"commentCount\":13,\"likeCount\":6,\"withNickname\":false,\"tags\":[],\"topics\":[\"勞基法\",\"勞工權益\",\"打工\",\"餐飲業\",\"工作經驗\"],\"meta\":{\"layout\":\"classic\"},\"forumName\":\"工作\",\"forumAlias\":\"job\",\"gender\":\"F\",\"replyTitle\":null,\"mediaMeta\":[{\"id\":\"842c75b3-6c4a-49f0-bf0b-852af4b1be3d\",\"url\":\"https://i.imgur.com/mXgkTkxl.jpg\",\"normalizedUrl\":\"https://i.imgur.com/mXgkTkxl.jpg\",\"thumbnail\":\"https://i.imgur.com/mXgkTkxl.jpg\",\"type\":\"image/thumbnail\",\"tags\":[\"ANNOTATED\"],\"createdAt\":\"2020-03-09T02:25:44.206Z\",\"updatedAt\":\"2020-03-09T02:40:44.621Z\"},{\"id\":\"842c75b3-6c4a-49f0-bf0b-852af4b1be3d\",\"url\":\"https://i.imgur.com/mXgkTkx.jpg\",\"normalizedUrl\":\"https://imgur.com/mXgkTkx\",\"thumbnail\":\"https://i.imgur.com/mXgkTkxl.jpg\",\"type\":\"image/imgur\",\"tags\":[\"ANNOTATED\"],\"createdAt\":\"2020-03-09T02:25:44.206Z\",\"updatedAt\":\"2020-03-09T02:40:44.621Z\"}],\"reactions\":[{\"id\":\"286f599c-f86a-4932-82f0-f5a06f1eca03\",\"count\":6}],\"hidden\":false,\"customStyle\":null,\"isSuspiciousAccount\":false,\"layout\":\"classic\",\"withImages\":true,\"withVideos\":false,\"media\":[{\"url\":\"https://i.imgur.com/mXgkTkx.jpg\"}],\"reportReasonText\":\"\",\"postAvatar\":\"\"},{\"id\":233227853,\"title\":\"台積面試 人資..面談\",\"excerpt\":\"今日與竹科台積電主管面試，面試的感覺很棒，主管也說很看好我，很多誇獎的話，也問了什麼時候能上班，最後說了他把資料轉給人資那邊，有關於薪資福利等等的問題等等再去問人資，最後也陪我去搭廠車，也一路閒聊，也\",\"anonymousSchool\":true,\"anonymousDepartment\":true,\"pinned\":false,\"forumId\":\"6eeeafb2-9dac-4d81-ae4b-ffecf0ad4444\",\"replyId\":null,\"createdAt\":\"2020-03-09T13:52:12.545Z\",\"updatedAt\":\"2020-03-09T13:59:03.261Z\",\"commentCount\":4,\"likeCount\":5,\"withNickname\":false,\"tags\":[\"HIDE_THUMBNAIL\"],\"topics\":[\"台積\",\"工作\",\"面試\",\"工作經驗\",\"面試經驗\"],\"meta\":{\"layout\":\"classic\"},\"forumName\":\"工作\",\"forumAlias\":\"job\",\"gender\":\"M\",\"replyTitle\":null,\"mediaMeta\":[],\"reactions\":[{\"id\":\"286f599c-f86a-4932-82f0-f5a06f1eca03\",\"count\":5}],\"hidden\":false,\"customStyle\":null,\"isSuspiciousAccount\":false,\"layout\":\"classic\",\"withImages\":false,\"withVideos\":false,\"media\":[],\"reportReasonText\":\"\",\"postAvatar\":\"\"},{\"id\":233226147,\"title\":\"27歲，錄取交大資工所，猶豫是否就讀\",\"excerpt\":\"如題，今年滿27歲，本身是台科電子系學士，TOEIC 800，目前年薪約80萬上下（全包含）。由於看到當初同儕有讀研的進入 IC design 後年薪超高，覺得心癢癢，好羨慕 所以就在去年開始邊工作邊\",\"anonymousSchool\":false,\"anonymousDepartment\":true,\"pinned\":false,\"forumId\":\"6eeeafb2-9dac-4d81-ae4b-ffecf0ad4444\",\"replyId\":null,\"createdAt\":\"2020-03-09T09:40:48.770Z\",\"updatedAt\":\"2020-03-09T17:00:03.722Z\",\"commentCount\":23,\"likeCount\":5,\"withNickname\":false,\"tags\":[\"HIDE_THUMBNAIL\"],\"topics\":[\"資工\",\"工作\",\"工作經驗\",\"工程師\"],\"meta\":{\"layout\":\"classic\"},\"forumName\":\"工作\",\"forumAlias\":\"job\",\"gender\":\"M\",\"school\":\"國立臺灣科技大學\",\"replyTitle\":null,\"mediaMeta\":[],\"reactions\":[{\"id\":\"286f599c-f86a-4932-82f0-f5a06f1eca03\",\"count\":5}],\"hidden\":false,\"customStyle\":null,\"isSuspiciousAccount\":false,\"layout\":\"classic\",\"withImages\":false,\"withVideos\":false,\"media\":[],\"reportReasonText\":\"\",\"postAvatar\":\"\"},{\"id\":233225887,\"title\":\"出國前來個短期打工 疑問❓\",\"excerpt\":\"有朋友介紹一個短期打工，但自己沒什麼經驗怕被騙或遇到不好的公司，所以想請問有沒有人有聽過圓x商務平台？或是有人曾去工作嗎？上網爬文找到的資訊不多，看評價好像不太好...，但聽朋友介紹好像還不錯蠻吸引人\",\"anonymousSchool\":false,\"anonymousDepartment\":true,\"pinned\":false,\"forumId\":\"6eeeafb2-9dac-4d81-ae4b-ffecf0ad4444\",\"replyId\":null,\"createdAt\":\"2020-03-09T08:58:01.952Z\",\"updatedAt\":\"2020-03-09T08:58:01.952Z\",\"commentCount\":2,\"likeCount\":5,\"withNickname\":false,\"tags\":[\"HIDE_THUMBNAIL\"],\"topics\":[\"打工\",\"面試經驗\",\"工作\"],\"meta\":{\"layout\":\"classic\"},\"forumName\":\"工作\",\"forumAlias\":\"job\",\"gender\":\"F\",\"school\":\"實踐大學\",\"replyTitle\":null,\"mediaMeta\":[],\"reactions\":[{\"id\":\"286f599c-f86a-4932-82f0-f5a06f1eca03\",\"count\":5}],\"hidden\":false,\"customStyle\":null,\"isSuspiciousAccount\":false,\"layout\":\"classic\",\"withImages\":false,\"withVideos\":false,\"media\":[],\"reportReasonText\":\"\",\"postAvatar\":\"\"},{\"id\":233225832,\"title\":\"中信金控或其他銀行的職位\",\"excerpt\":\"想請問從事金融業的人，在大學應屆畢業生可以應徵的職位大概有哪些？本身想從事法金/企金/個金的部份，但目前找到的職缺都要求需要3-5年工作經驗，不知有沒有什麼職位是剛畢業大學生可以申請的？另外，我對As\",\"anonymousSchool\":true,\"anonymousDepartment\":true,\"pinned\":false,\"forumId\":\"6eeeafb2-9dac-4d81-ae4b-ffecf0ad4444\",\"replyId\":null,\"createdAt\":\"2020-03-09T08:51:23.111Z\",\"updatedAt\":\"2020-03-09T09:23:49.462Z\",\"commentCount\":1,\"likeCount\":5,\"withNickname\":false,\"tags\":[\"HIDE_THUMBNAIL\"],\"topics\":[\"銀行\",\"工作\",\"求職\"],\"meta\":{\"layout\":\"classic\"},\"forumName\":\"工作\",\"forumAlias\":\"job\",\"gender\":\"M\",\"replyTitle\":null,\"mediaMeta\":[],\"reactions\":[{\"id\":\"286f599c-f86a-4932-82f0-f5a06f1eca03\",\"count\":5}],\"hidden\":false,\"customStyle\":null,\"isSuspiciousAccount\":false,\"layout\":\"classic\",\"withImages\":false,\"withVideos\":false,\"media\":[],\"reportReasonText\":\"\",\"postAvatar\":\"\"},{\"id\":233225697,\"title\":\"兆八和公股銀請教\",\"excerpt\":\"各位前輩好，我明年即將畢業，想報考兆八或其他公股，因為不知道自己的能力背景對考公股資格夠不夠。還在考慮該不該唸研究所再來考還是直接考。想請大家給我建議謝謝大家，學歷：臺北大學經濟系雙主修外語系，多益：\",\"anonymousSchool\":false,\"anonymousDepartment\":true,\"pinned\":false,\"forumId\":\"6eeeafb2-9dac-4d81-ae4b-ffecf0ad4444\",\"replyId\":null,\"createdAt\":\"2020-03-09T08:27:23.431Z\",\"updatedAt\":\"2020-03-09T08:43:14.898Z\",\"commentCount\":5,\"likeCount\":5,\"withNickname\":true,\"tags\":[\"HIDE_THUMBNAIL\"],\"topics\":[\"公股\",\"工作\",\"銀行\"],\"meta\":{\"layout\":\"classic\"},\"forumName\":\"工作\",\"forumAlias\":\"job\",\"gender\":\"M\",\"school\":\"匿名\",\"department\":\"powerbaby\",\"replyTitle\":null,\"mediaMeta\":[],\"reactions\":[{\"id\":\"286f599c-f86a-4932-82f0-f5a06f1eca03\",\"count\":5}],\"hidden\":false,\"customStyle\":null,\"isSuspiciousAccount\":false,\"layout\":\"classic\",\"withImages\":false,\"withVideos\":false,\"media\":[],\"reportReasonText\":\"\",\"postAvatar\":\"\"},{\"id\":233225416,\"title\":\"投了之後\",\"excerpt\":\"有些覺得還可以的工作就先存起來，然後開始為要應徵做準備，當我覺得我已經完全準備好了！，履歷呀面試啊什麼的，按完沒多久，等等等，馬上就給我關閉職缺了呢^^\",\"anonymousSchool\":true,\"anonymousDepartment\":true,\"pinned\":false,\"forumId\":\"6eeeafb2-9dac-4d81-ae4b-ffecf0ad4444\",\"replyId\":null,\"createdAt\":\"2020-03-09T07:43:46.776Z\",\"updatedAt\":\"2020-03-09T07:43:46.776Z\",\"commentCount\":13,\"likeCount\":5,\"withNickname\":false,\"tags\":[\"HIDE_THUMBNAIL\"],\"topics\":[\"求職\",\"工作\",\"應徵\",\"投沒多久就關閉職缺\"],\"meta\":{\"layout\":\"classic\"},\"forumName\":\"工作\",\"forumAlias\":\"job\",\"gender\":\"F\",\"replyTitle\":null,\"mediaMeta\":[],\"reactions\":[{\"id\":\"286f599c-f86a-4932-82f0-f5a06f1eca03\",\"count\":5}],\"hidden\":false,\"customStyle\":null,\"isSuspiciousAccount\":false,\"layout\":\"classic\",\"withImages\":false,\"withVideos\":false,\"media\":[],\"reportReasonText\":\"\",\"postAvatar\":\"\"},{\"id\":233224310,\"title\":\"四x娛x規劃有限公司  日商怎麼這麼可怕(文長)\",\"excerpt\":\"四x娛x規劃有限公司是在三井Outlet裡面的經營摩天輪的一間日商，這家公司第一次到台灣開公司，很多制度並不是很明確，主要有三個部門，一位人資、一位翻譯為同一部門，其他兩個部門各有一位會日文的主管，還\",\"anonymousSchool\":true,\"anonymousDepartment\":true,\"pinned\":false,\"forumId\":\"6eeeafb2-9dac-4d81-ae4b-ffecf0ad4444\",\"replyId\":null,\"createdAt\":\"2020-03-09T04:54:57.930Z\",\"updatedAt\":\"2020-03-09T04:54:57.930Z\",\"commentCount\":2,\"likeCount\":5,\"withNickname\":false,\"tags\":[\"HIDE_THUMBNAIL\"],\"topics\":[\"文長\",\"工作\",\"工作經驗\"],\"meta\":{\"layout\":\"classic\"},\"forumName\":\"工作\",\"forumAlias\":\"job\",\"gender\":\"F\",\"replyTitle\":null,\"mediaMeta\":[],\"reactions\":[{\"id\":\"286f599c-f86a-4932-82f0-f5a06f1eca03\",\"count\":5}],\"hidden\":false,\"customStyle\":null,\"isSuspiciousAccount\":false,\"layout\":\"classic\",\"withImages\":false,\"withVideos\":false,\"media\":[],\"reportReasonText\":\"\",\"postAvatar\":\"\"}]'"
      ]
     },
     "execution_count": 8,
     "metadata": {},
     "output_type": "execute_result"
    }
   ],
   "source": [
    "response = r.text\n",
    "response\n",
    "#https://www.dcard.tw/f/job\n",
    "#https://www.dcard.tw/_api/forums/job/posts?popular=true"
   ]
  },
  {
   "cell_type": "code",
   "execution_count": 9,
   "metadata": {},
   "outputs": [
    {
     "name": "stdout",
     "output_type": "stream",
     "text": [
      "<請先點我> 工作板＆實習、打工職缺刊登說明\n",
      "超莫名面試經驗！女人何苦為難女人😥\n",
      "保險業深層破解\n",
      "實習生文章 完全無法接受這裡面內容\n",
      "工作心情\n",
      "到底是誰讓工作這麼累？有時可能是我們限制了自己\n",
      "離職，被逼問下一家公司名字!\n",
      "我只有35K\n",
      "大四下（準畢業生）的選擇😫\n",
      "新人上班\n",
      "室內設計\n",
      "我得了工作恐懼症～\n",
      "你也可以做出好履歷啦，線上履歷平台評比\n",
      "該不該換工作..\n",
      "民營銀行多益至少要多少分再放\n",
      "健保轉出單問題\n",
      "國泰儲備幹部-3/21直播分享\n",
      "要做正職還是打工?\n",
      "剛進入公司上班，有什麼該注意的嗎？\n",
      "為什麼大家愛抱怨\n",
      "這樣可以提離職嗎\n",
      "很突然被離職\n",
      "究竟是我爛草莓？還是打工太不合理？\n",
      "台積面試 人資..面談\n",
      "27歲，錄取交大資工所，猶豫是否就讀\n",
      "出國前來個短期打工 疑問❓\n",
      "中信金控或其他銀行的職位\n",
      "兆八和公股銀請教\n",
      "投了之後\n",
      "四x娛x規劃有限公司  日商怎麼這麼可怕(文長)\n"
     ]
    }
   ],
   "source": [
    "import json\n",
    "data = json.loads(response) #利用json解析網頁內容\n",
    "\n",
    "for d in data :\n",
    "    print(d['title'])  #取出每一篇的標題"
   ]
  },
  {
   "cell_type": "code",
   "execution_count": 11,
   "metadata": {},
   "outputs": [],
   "source": [
    "#作業 : 'https://www.dcard.tw/_api/forums/pet/posts?popular=true'"
   ]
  },
  {
   "cell_type": "code",
   "execution_count": 41,
   "metadata": {},
   "outputs": [
    {
     "name": "stdout",
     "output_type": "stream",
     "text": [
      "一次回傳 30 筆資料; 每筆資料含有 32 欄位 \n",
      " {'id': 233223495, 'title': '再見了！貓叔', 'excerpt': '貓叔是我追的網紅貓之一，從念書時期追到現在，聽到牠過世的消息，還來不及過18歲生日，真的感覺很不捨，網路上一張張頭頂各種食物、器具照片，表情可愛憨厚樣子，看過就會深深的印在心底，遇到生活上的不如意，看', 'anonymousSchool': False, 'anonymousDepartment': True, 'pinned': False, 'forumId': '7ee21581-1307-4ba9-b9dc-82028bdcca49', 'replyId': None, 'createdAt': '2020-03-09T02:35:03.855Z', 'updatedAt': '2020-03-09T15:17:55.473Z', 'commentCount': 3, 'likeCount': 316, 'withNickname': False, 'tags': [], 'topics': ['再見', '貓', '貓叔', '籃子貓'], 'meta': {'layout': 'classic'}, 'forumName': '寵物', 'forumAlias': 'pet', 'gender': 'F', 'school': '國立臺灣藝術大學', 'replyTitle': None, 'mediaMeta': [{'id': '516b24ee-55c2-4e4f-bbee-edd677058dfc', 'url': 'https://i.imgur.com/9r9ngdHl.jpg', 'normalizedUrl': 'https://i.imgur.com/9r9ngdHl.jpg', 'thumbnail': 'https://i.imgur.com/9r9ngdHl.jpg', 'type': 'image/thumbnail', 'tags': ['ANNOTATED'], 'createdAt': '2020-03-09T15:15:48.935Z', 'updatedAt': '2020-03-09T15:17:55.473Z'}, {'id': '516b24ee-55c2-4e4f-bbee-edd677058dfc', 'url': 'http://i.imgur.com/9r9ngdH.gif', 'normalizedUrl': 'https://imgur.com/9r9ngdH', 'thumbnail': 'https://i.imgur.com/9r9ngdHl.jpg', 'type': 'image/imgur', 'tags': ['ANNOTATED'], 'createdAt': '2020-03-09T15:15:48.935Z', 'updatedAt': '2020-03-09T15:17:55.473Z'}, {'id': '47078a50-2beb-404a-af13-dbfca446415f', 'url': 'https://i.imgur.com/6T46Svl.jpg', 'normalizedUrl': 'https://imgur.com/6T46Svl', 'thumbnail': 'https://i.imgur.com/6T46Svll.jpg', 'type': 'image/imgur', 'tags': ['ANNOTATED'], 'createdAt': '2020-03-09T15:15:48.935Z', 'updatedAt': '2020-03-09T15:17:55.473Z'}, {'id': 'c6893311-327b-46fe-abad-89a6a740a562', 'url': 'https://i.imgur.com/TVaaXxy.jpg', 'normalizedUrl': 'https://imgur.com/TVaaXxy', 'thumbnail': 'https://i.imgur.com/TVaaXxyl.jpg', 'type': 'image/imgur', 'tags': ['ANNOTATED'], 'createdAt': '2020-03-09T15:17:55.473Z', 'updatedAt': '2020-03-09T15:17:55.473Z'}, {'id': 'd220aaf9-6e8a-4536-9c6b-99b6e4994e4f', 'url': 'https://i.imgur.com/8DNOj3d.jpg', 'normalizedUrl': 'https://imgur.com/8DNOj3d', 'thumbnail': 'https://i.imgur.com/8DNOj3dl.jpg', 'type': 'image/imgur', 'tags': ['ANNOTATED'], 'createdAt': '2020-03-09T15:15:48.935Z', 'updatedAt': '2020-03-09T15:17:55.473Z'}, {'id': 'a7ff697d-6c5c-4a7c-a14f-06f19c5412c7', 'url': 'https://i.imgur.com/L70X5hg.jpg', 'normalizedUrl': 'https://imgur.com/L70X5hg', 'thumbnail': 'https://i.imgur.com/L70X5hgl.jpg', 'type': 'image/imgur', 'tags': ['ANNOTATED'], 'createdAt': '2020-03-09T15:15:48.935Z', 'updatedAt': '2020-03-09T15:17:55.473Z'}, {'id': '21cbd7a9-7514-42b3-9454-608725138be0', 'url': 'https://i.imgur.com/Fac5Xzx.jpg', 'normalizedUrl': 'https://imgur.com/Fac5Xzx', 'thumbnail': 'https://i.imgur.com/Fac5Xzxl.jpg', 'type': 'image/imgur', 'tags': ['ANNOTATED'], 'createdAt': '2020-03-09T15:15:48.935Z', 'updatedAt': '2020-03-09T15:17:55.473Z'}, {'id': '80d8bb8b-67ae-4a03-bafa-b2858d2e4ff2', 'url': 'http://i.imgur.com/Utmeu8U.jpg', 'normalizedUrl': 'https://imgur.com/Utmeu8U', 'thumbnail': 'https://i.imgur.com/Utmeu8Ul.jpg', 'type': 'image/imgur', 'tags': ['ANNOTATED'], 'createdAt': '2020-03-09T15:15:48.935Z', 'updatedAt': '2020-03-09T15:17:55.473Z'}, {'id': '05482e22-486f-4524-a30d-faf3660dbe54', 'url': 'http://i.imgur.com/JY2Bcje.jpg', 'normalizedUrl': 'https://imgur.com/JY2Bcje', 'thumbnail': 'https://i.imgur.com/JY2Bcjel.jpg', 'type': 'image/imgur', 'tags': ['ANNOTATED'], 'createdAt': '2020-03-09T15:15:48.935Z', 'updatedAt': '2020-03-09T15:17:55.473Z'}, {'id': 'b9829464-a170-486b-b2fd-52c6a02f539f', 'url': 'http://i.imgur.com/V6WOHSd.jpg', 'normalizedUrl': 'https://imgur.com/V6WOHSd', 'thumbnail': 'https://i.imgur.com/V6WOHSdl.jpg', 'type': 'image/imgur', 'tags': ['ANNOTATED'], 'createdAt': '2020-03-09T15:15:48.935Z', 'updatedAt': '2020-03-09T15:17:55.473Z'}, {'id': 'f63e9a79-8859-4d1c-9f9e-a0a2ba505bf0', 'url': 'http://i.imgur.com/atZZLFs.jpg', 'normalizedUrl': 'https://imgur.com/atZZLFs', 'thumbnail': 'https://i.imgur.com/atZZLFsl.jpg', 'type': 'image/imgur', 'tags': ['ANNOTATED'], 'createdAt': '2020-03-09T15:15:48.935Z', 'updatedAt': '2020-03-09T15:17:55.473Z'}, {'id': '116205f6-9c8d-4971-a3f8-28d3edd8bdae', 'url': 'http://i.imgur.com/M9rVCb8.jpg', 'normalizedUrl': 'https://imgur.com/M9rVCb8', 'thumbnail': 'https://i.imgur.com/M9rVCb8l.jpg', 'type': 'image/imgur', 'tags': ['ANNOTATED'], 'createdAt': '2020-03-09T15:15:48.935Z', 'updatedAt': '2020-03-09T15:17:55.473Z'}, {'id': '04db15bc-0cb3-40ac-ba44-150b1347e841', 'url': 'http://i.imgur.com/1V8o9eC.jpg', 'normalizedUrl': 'https://imgur.com/1V8o9eC', 'thumbnail': 'https://i.imgur.com/1V8o9eCl.jpg', 'type': 'image/imgur', 'tags': ['ANNOTATED'], 'createdAt': '2020-03-09T15:15:48.935Z', 'updatedAt': '2020-03-09T15:17:55.473Z'}, {'id': 'ab879599-5269-4346-94b7-58e155267d72', 'url': 'http://i.imgur.com/l8hEFw8.jpg', 'normalizedUrl': 'https://imgur.com/l8hEFw8', 'thumbnail': 'https://i.imgur.com/l8hEFw8l.jpg', 'type': 'image/imgur', 'tags': ['ANNOTATED'], 'createdAt': '2020-03-09T15:15:48.935Z', 'updatedAt': '2020-03-09T15:17:55.473Z'}, {'id': '0449c984-b2e0-450e-a724-2c57310eba41', 'url': 'http://i.imgur.com/Js63NRx.jpg', 'normalizedUrl': 'https://imgur.com/Js63NRx', 'thumbnail': 'https://i.imgur.com/Js63NRxl.jpg', 'type': 'image/imgur', 'tags': ['ANNOTATED'], 'createdAt': '2020-03-09T15:15:48.935Z', 'updatedAt': '2020-03-09T15:17:55.473Z'}, {'id': '34e9631c-8ef4-4c6e-8c26-9d70b0e7a869', 'url': 'http://i.imgur.com/qk1DGvO.gif', 'normalizedUrl': 'https://imgur.com/qk1DGvO', 'thumbnail': 'https://i.imgur.com/qk1DGvOl.jpg', 'type': 'image/imgur', 'tags': ['ANNOTATED'], 'createdAt': '2020-03-09T15:15:48.935Z', 'updatedAt': '2020-03-09T15:17:55.473Z'}, {'id': '75001dfb-49c3-4719-a79b-5468fee117df', 'url': 'http://i.imgur.com/WzmiVCo.jpg', 'normalizedUrl': 'https://imgur.com/WzmiVCo', 'thumbnail': 'https://i.imgur.com/WzmiVCol.jpg', 'type': 'image/imgur', 'tags': ['ANNOTATED'], 'createdAt': '2020-03-09T15:15:48.935Z', 'updatedAt': '2020-03-09T15:17:55.473Z'}], 'reactions': [{'id': '286f599c-f86a-4932-82f0-f5a06f1eca03', 'count': 300}, {'id': '514c2569-fd53-4d9d-a415-bf0f88e7329f', 'count': 16}], 'hidden': False, 'customStyle': None, 'isSuspiciousAccount': False, 'layout': 'classic', 'withImages': True, 'withVideos': False, 'media': [{'url': 'https://i.imgur.com/6T46Svl.jpg'}, {'url': 'https://i.imgur.com/TVaaXxy.jpg'}, {'url': 'https://i.imgur.com/8DNOj3d.jpg'}, {'url': 'https://i.imgur.com/L70X5hg.jpg'}, {'url': 'https://i.imgur.com/Fac5Xzx.jpg'}, {'url': 'http://i.imgur.com/Utmeu8U.jpg'}, {'url': 'http://i.imgur.com/JY2Bcje.jpg'}, {'url': 'http://i.imgur.com/V6WOHSd.jpg'}, {'url': 'http://i.imgur.com/atZZLFs.jpg'}, {'url': 'http://i.imgur.com/M9rVCb8.jpg'}, {'url': 'http://i.imgur.com/1V8o9eC.jpg'}, {'url': 'http://i.imgur.com/l8hEFw8.jpg'}, {'url': 'http://i.imgur.com/Js63NRx.jpg'}, {'url': 'http://i.imgur.com/WzmiVCo.jpg'}], 'reportReasonText': '', 'postAvatar': ''}\n"
     ]
    },
    {
     "data": {
      "text/plain": [
       "'再見了！貓叔'"
      ]
     },
     "execution_count": 41,
     "metadata": {},
     "output_type": "execute_result"
    }
   ],
   "source": [
    "#1.這個 API 一次會回傳幾筆資料？每一筆資料包含哪些欄位？\n",
    "\n",
    "import requests\n",
    "r = requests.get(\"https://www.dcard.tw/_api/forums/pet/posts?popular=true\")\n",
    "response = r.text\n",
    "response[0][0]\n",
    "\n",
    "import json\n",
    "data = json.loads(response)\n",
    "\n",
    "print('一次回傳',len(data),'筆資料;','每筆資料含有',len(data[0]),'欄位','\\n',data[0])"
   ]
  },
  {
   "cell_type": "code",
   "execution_count": 54,
   "metadata": {},
   "outputs": [
    {
     "name": "stdout",
     "output_type": "stream",
     "text": [
      "title: 再見了！貓叔 時間 2020-03-09T02:35:03.855Z 留言數 3 喜歡數 316 \n",
      "\n",
      "title: 結紮後哭哭 時間 2020-03-09T08:57:11.370Z 留言數 5 喜歡數 149 \n",
      "\n",
      "title: 在美國的美國短毛貓-睡姿篇 時間 2020-03-08T17:25:16.914Z 留言數 4 喜歡數 91 \n",
      "\n",
      "title: 拜託！不要這個臉！ 時間 2020-03-09T16:08:00.612Z 留言數 5 喜歡數 55 \n",
      "\n",
      "title: 牠陪伴你一時，你陪伴牠ㄧ世 時間 2020-03-09T10:29:35.965Z 留言數 4 喜歡數 37 \n",
      "\n",
      "title: 最會騙人的貓 時間 2020-03-09T04:46:36.530Z 留言數 13 喜歡數 27 \n",
      "\n",
      "title: 魚x魚疑似把我訂的小丑魚調包 時間 2020-03-09T18:58:42.144Z 留言數 13 喜歡數 25 \n",
      "\n",
      "title: 家門口的浪貓 時間 2020-03-09T10:41:12.198Z 留言數 7 喜歡數 24 \n",
      "\n",
      "title: 我家又撿到鳥了 時間 2020-03-09T03:14:27.534Z 留言數 2 喜歡數 24 \n",
      "\n",
      "title: 小貓咕嚕咕嚕叫？ 時間 2020-03-09T14:09:12.761Z 留言數 0 喜歡數 21 \n",
      "\n",
      "title: 要多厭世 時間 2020-03-09T07:11:55.687Z 留言數 1 喜歡數 20 \n",
      "\n",
      "title: 犬種介紹特輯 東方神獸 西藏獒犬~ 時間 2020-03-09T13:00:10.099Z 留言數 5 喜歡數 19 \n",
      "\n",
      "title: 《狸貓豆皮》搭校車的工讀生上學嚕🐕 時間 2020-03-09T06:43:50.658Z 留言數 0 喜歡數 17 \n",
      "\n",
      "title: 家有五隻貓 時間 2020-03-08T20:08:16.456Z 留言數 0 喜歡數 17 \n",
      "\n",
      "title: 我養了一頭鹿（？ 時間 2020-03-09T08:09:40.976Z 留言數 0 喜歡數 15 \n",
      "\n",
      "title: 我能做的不多～但我盡力 時間 2020-03-08T16:21:16.712Z 留言數 4 喜歡數 13 \n",
      "\n",
      "title: 撿到狗狗，但沒辦法繼續認養牠 時間 2020-03-09T14:24:37.960Z 留言數 3 喜歡數 12 \n",
      "\n",
      "title: 撒嬌貓 時間 2020-03-08T17:03:22.202Z 留言數 0 喜歡數 12 \n",
      "\n",
      "title: 柴犬夫妻被自助洗澡初體驗 時間 2020-03-09T17:10:22.314Z 留言數 2 喜歡數 10 \n",
      "\n",
      "title: 睡成這樣合理嗎？ 時間 2020-03-09T14:11:57.741Z 留言數 2 喜歡數 10 \n",
      "\n",
      "title: 家貓ㄧ聽到牠在DCARD⋯⋯😳 時間 2020-03-09T13:14:54.829Z 留言數 1 喜歡數 10 \n",
      "\n",
      "title: 尋😭 時間 2020-03-09T12:33:39.568Z 留言數 0 喜歡數 10 \n",
      "\n",
      "title: 被懷疑是因為我養貓所以害其他人過敏 時間 2020-03-09T05:05:02.814Z 留言數 10 喜歡數 10 \n",
      "\n",
      "title: 我以為我養的是豬🐷 時間 2020-03-09T07:15:38.224Z 留言數 0 喜歡數 8 \n",
      "\n",
      "title: 專業陪睡的貓 時間 2020-03-09T04:15:41.333Z 留言數 0 喜歡數 7 \n",
      "\n",
      "title: 讓人心累的一場雨 時間 2020-03-09T19:49:25.810Z 留言數 1 喜歡數 6 \n",
      "\n",
      "title: 老鼠越獄 時間 2020-03-09T17:44:05.571Z 留言數 9 喜歡數 5 \n",
      "\n",
      "title: 請問是烏龜貓？ 時間 2020-03-09T12:59:31.184Z 留言數 4 喜歡數 5 \n",
      "\n",
      "title: 打哈欠 時間 2020-03-09T11:58:43.666Z 留言數 1 喜歡數 5 \n",
      "\n",
      "title: 入爬坑的第一次 #守宮 時間 2020-03-08T18:12:05.814Z 留言數 5 喜歡數 5 \n",
      "\n"
     ]
    }
   ],
   "source": [
    "#2.取出每一筆資料的「標題」、「貼文時間」、「留言人數」、「按讚人數」\n",
    "\n",
    "title = []\n",
    "createdAt = []\n",
    "commentCount = []\n",
    "likeCount = []\n",
    "for d in data :\n",
    "    title.append(d['title'])\n",
    "    createdAt.append(d['createdAt'])\n",
    "    commentCount.append(d['commentCount'])\n",
    "    likeCount.append(d['likeCount'])\n",
    "for i in range(0,len(title)):\n",
    "    print('title:',title[i],'時間',createdAt[i],'留言數',commentCount[i],'喜歡數',likeCount[i],'\\n')"
   ]
  },
  {
   "cell_type": "code",
   "execution_count": 59,
   "metadata": {},
   "outputs": [
    {
     "name": "stdout",
     "output_type": "stream",
     "text": [
      "平均留言人數: 3.47 ;平均案讚人數: 32.83\n"
     ]
    }
   ],
   "source": [
    "#3.計算熱門/非熱門文章的「平均留言人數」與「平均按讚人數」\n",
    "sumofcom = 0\n",
    "sumoflike = 0\n",
    "for i in range(0,len(data)):\n",
    "    sumofcom = sumofcom + commentCount[i]\n",
    "    sumoflike = sumoflike + likeCount[i]\n",
    "avecom = sumofcom/len(data)\n",
    "avelike = sumoflike/len(data)\n",
    "print('平均留言人數:',round(avecom,2),';平均案讚人數:',round(avelike,2))"
   ]
  }
 ],
 "metadata": {
  "kernelspec": {
   "display_name": "Python 3",
   "language": "python",
   "name": "python3"
  },
  "language_info": {
   "codemirror_mode": {
    "name": "ipython",
    "version": 3
   },
   "file_extension": ".py",
   "mimetype": "text/x-python",
   "name": "python",
   "nbconvert_exporter": "python",
   "pygments_lexer": "ipython3",
   "version": "3.7.4"
  }
 },
 "nbformat": 4,
 "nbformat_minor": 2
}
